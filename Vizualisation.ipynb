{
  "cells": [
    {
      "cell_type": "code",
      "execution_count": 1,
      "metadata": {
        "id": "nFgDbqUsOEyf"
      },
      "outputs": [],
      "source": [
        "import numpy as np\n",
        "import pandas as pd\n",
        "import matplotlib.cm as cm\n",
        "import matplotlib.colors as col\n",
        "import matplotlib.pyplot as plt\n",
        "\n",
        "from scipy.cluster.hierarchy import dendrogram\n",
        "from sklearn.cluster import AgglomerativeClustering\n",
        "from scipy.optimize import minimize"
      ]
    },
    {
      "cell_type": "markdown",
      "source": [
        "#Примеры работы алгоритма"
      ],
      "metadata": {
        "id": "zO1cpG7VWpai"
      }
    },
    {
      "cell_type": "code",
      "source": [
        "sub_similarity = pd.read_csv(\"similarity.csv\")\n",
        "sub_similarity.head()"
      ],
      "metadata": {
        "colab": {
          "base_uri": "https://localhost:8080/",
          "height": 206
        },
        "id": "5F9DK0kyIVEk",
        "outputId": "e671d8e5-1a82-46ff-fc7e-7086fa942e01"
      },
      "execution_count": 2,
      "outputs": [
        {
          "output_type": "execute_result",
          "data": {
            "text/plain": [
              "   Вероятность схожести  Расстояние между предметами  \\\n",
              "0          7.156021e-01                     0.334631   \n",
              "1          4.560816e-10                    21.508349   \n",
              "2          2.365310e-09                    19.862357   \n",
              "3          4.603071e-10                    21.499127   \n",
              "4          5.777023e-11                    23.574547   \n",
              "\n",
              "                        Предмет 1  \\\n",
              "0  Алгоритмы и структуры данных 4   \n",
              "1  Алгоритмы и структуры данных 4   \n",
              "2  Алгоритмы и структуры данных 4   \n",
              "3  Алгоритмы и структуры данных 4   \n",
              "4  Алгоритмы и структуры данных 4   \n",
              "\n",
              "                                         Предмет 2  \n",
              "0         Практикум по математическому анализу 2 4  \n",
              "1                                        Алгебра 4  \n",
              "2                   Линейная алгебра и геометрия 4  \n",
              "3                        Математический анализ 1 4  \n",
              "4  Архитектура компьютера и операционные системы 4  "
            ],
            "text/html": [
              "\n",
              "  <div id=\"df-623c0bbe-b754-492d-9683-d061a80fa373\">\n",
              "    <div class=\"colab-df-container\">\n",
              "      <div>\n",
              "<style scoped>\n",
              "    .dataframe tbody tr th:only-of-type {\n",
              "        vertical-align: middle;\n",
              "    }\n",
              "\n",
              "    .dataframe tbody tr th {\n",
              "        vertical-align: top;\n",
              "    }\n",
              "\n",
              "    .dataframe thead th {\n",
              "        text-align: right;\n",
              "    }\n",
              "</style>\n",
              "<table border=\"1\" class=\"dataframe\">\n",
              "  <thead>\n",
              "    <tr style=\"text-align: right;\">\n",
              "      <th></th>\n",
              "      <th>Вероятность схожести</th>\n",
              "      <th>Расстояние между предметами</th>\n",
              "      <th>Предмет 1</th>\n",
              "      <th>Предмет 2</th>\n",
              "    </tr>\n",
              "  </thead>\n",
              "  <tbody>\n",
              "    <tr>\n",
              "      <th>0</th>\n",
              "      <td>7.156021e-01</td>\n",
              "      <td>0.334631</td>\n",
              "      <td>Алгоритмы и структуры данных 4</td>\n",
              "      <td>Практикум по математическому анализу 2 4</td>\n",
              "    </tr>\n",
              "    <tr>\n",
              "      <th>1</th>\n",
              "      <td>4.560816e-10</td>\n",
              "      <td>21.508349</td>\n",
              "      <td>Алгоритмы и структуры данных 4</td>\n",
              "      <td>Алгебра 4</td>\n",
              "    </tr>\n",
              "    <tr>\n",
              "      <th>2</th>\n",
              "      <td>2.365310e-09</td>\n",
              "      <td>19.862357</td>\n",
              "      <td>Алгоритмы и структуры данных 4</td>\n",
              "      <td>Линейная алгебра и геометрия 4</td>\n",
              "    </tr>\n",
              "    <tr>\n",
              "      <th>3</th>\n",
              "      <td>4.603071e-10</td>\n",
              "      <td>21.499127</td>\n",
              "      <td>Алгоритмы и структуры данных 4</td>\n",
              "      <td>Математический анализ 1 4</td>\n",
              "    </tr>\n",
              "    <tr>\n",
              "      <th>4</th>\n",
              "      <td>5.777023e-11</td>\n",
              "      <td>23.574547</td>\n",
              "      <td>Алгоритмы и структуры данных 4</td>\n",
              "      <td>Архитектура компьютера и операционные системы 4</td>\n",
              "    </tr>\n",
              "  </tbody>\n",
              "</table>\n",
              "</div>\n",
              "      <button class=\"colab-df-convert\" onclick=\"convertToInteractive('df-623c0bbe-b754-492d-9683-d061a80fa373')\"\n",
              "              title=\"Convert this dataframe to an interactive table.\"\n",
              "              style=\"display:none;\">\n",
              "        \n",
              "  <svg xmlns=\"http://www.w3.org/2000/svg\" height=\"24px\"viewBox=\"0 0 24 24\"\n",
              "       width=\"24px\">\n",
              "    <path d=\"M0 0h24v24H0V0z\" fill=\"none\"/>\n",
              "    <path d=\"M18.56 5.44l.94 2.06.94-2.06 2.06-.94-2.06-.94-.94-2.06-.94 2.06-2.06.94zm-11 1L8.5 8.5l.94-2.06 2.06-.94-2.06-.94L8.5 2.5l-.94 2.06-2.06.94zm10 10l.94 2.06.94-2.06 2.06-.94-2.06-.94-.94-2.06-.94 2.06-2.06.94z\"/><path d=\"M17.41 7.96l-1.37-1.37c-.4-.4-.92-.59-1.43-.59-.52 0-1.04.2-1.43.59L10.3 9.45l-7.72 7.72c-.78.78-.78 2.05 0 2.83L4 21.41c.39.39.9.59 1.41.59.51 0 1.02-.2 1.41-.59l7.78-7.78 2.81-2.81c.8-.78.8-2.07 0-2.86zM5.41 20L4 18.59l7.72-7.72 1.47 1.35L5.41 20z\"/>\n",
              "  </svg>\n",
              "      </button>\n",
              "      \n",
              "  <style>\n",
              "    .colab-df-container {\n",
              "      display:flex;\n",
              "      flex-wrap:wrap;\n",
              "      gap: 12px;\n",
              "    }\n",
              "\n",
              "    .colab-df-convert {\n",
              "      background-color: #E8F0FE;\n",
              "      border: none;\n",
              "      border-radius: 50%;\n",
              "      cursor: pointer;\n",
              "      display: none;\n",
              "      fill: #1967D2;\n",
              "      height: 32px;\n",
              "      padding: 0 0 0 0;\n",
              "      width: 32px;\n",
              "    }\n",
              "\n",
              "    .colab-df-convert:hover {\n",
              "      background-color: #E2EBFA;\n",
              "      box-shadow: 0px 1px 2px rgba(60, 64, 67, 0.3), 0px 1px 3px 1px rgba(60, 64, 67, 0.15);\n",
              "      fill: #174EA6;\n",
              "    }\n",
              "\n",
              "    [theme=dark] .colab-df-convert {\n",
              "      background-color: #3B4455;\n",
              "      fill: #D2E3FC;\n",
              "    }\n",
              "\n",
              "    [theme=dark] .colab-df-convert:hover {\n",
              "      background-color: #434B5C;\n",
              "      box-shadow: 0px 1px 3px 1px rgba(0, 0, 0, 0.15);\n",
              "      filter: drop-shadow(0px 1px 2px rgba(0, 0, 0, 0.3));\n",
              "      fill: #FFFFFF;\n",
              "    }\n",
              "  </style>\n",
              "\n",
              "      <script>\n",
              "        const buttonEl =\n",
              "          document.querySelector('#df-623c0bbe-b754-492d-9683-d061a80fa373 button.colab-df-convert');\n",
              "        buttonEl.style.display =\n",
              "          google.colab.kernel.accessAllowed ? 'block' : 'none';\n",
              "\n",
              "        async function convertToInteractive(key) {\n",
              "          const element = document.querySelector('#df-623c0bbe-b754-492d-9683-d061a80fa373');\n",
              "          const dataTable =\n",
              "            await google.colab.kernel.invokeFunction('convertToInteractive',\n",
              "                                                     [key], {});\n",
              "          if (!dataTable) return;\n",
              "\n",
              "          const docLinkHtml = 'Like what you see? Visit the ' +\n",
              "            '<a target=\"_blank\" href=https://colab.research.google.com/notebooks/data_table.ipynb>data table notebook</a>'\n",
              "            + ' to learn more about interactive tables.';\n",
              "          element.innerHTML = '';\n",
              "          dataTable['output_type'] = 'display_data';\n",
              "          await google.colab.output.renderOutput(dataTable, element);\n",
              "          const docLink = document.createElement('div');\n",
              "          docLink.innerHTML = docLinkHtml;\n",
              "          element.appendChild(docLink);\n",
              "        }\n",
              "      </script>\n",
              "    </div>\n",
              "  </div>\n",
              "  "
            ]
          },
          "metadata": {},
          "execution_count": 2
        }
      ]
    },
    {
      "cell_type": "code",
      "source": [
        "ml = sub_similarity.loc[sub_similarity[\"Предмет 1\"] == \"Машинное обучение 1 2\"]\n",
        "ml = ml.sort_values(by=[\"Вероятность схожести\"], ascending=False)\n",
        "ml.tail()"
      ],
      "metadata": {
        "id": "NrSdNN34kYWO",
        "colab": {
          "base_uri": "https://localhost:8080/",
          "height": 206
        },
        "outputId": "0e293d05-c362-41f4-9855-879e94d76113"
      },
      "execution_count": 3,
      "outputs": [
        {
          "output_type": "execute_result",
          "data": {
            "text/plain": [
              "      Вероятность схожести  Расстояние между предметами  \\\n",
              "1815          1.754259e-02                     4.043124   \n",
              "1811          6.800793e-03                     4.990716   \n",
              "1818          2.590627e-06                    12.863611   \n",
              "1780          4.652608e-08                    16.883253   \n",
              "1786          7.408177e-09                    18.720681   \n",
              "\n",
              "                  Предмет 1                         Предмет 2  \n",
              "1815  Машинное обучение 1 2             Введение в блокчейн 3  \n",
              "1811  Машинное обучение 1 2        Обучение с подкреплением 3  \n",
              "1818  Машинное обучение 1 2                          DevOps 3  \n",
              "1780  Машинное обучение 1 2  Алгоритмы и структуры данных 2 1  \n",
              "1786  Машинное обучение 1 2              Методы оптимизации 4  "
            ],
            "text/html": [
              "\n",
              "  <div id=\"df-46e3d88b-69a4-4926-b976-f42cf4ed3383\">\n",
              "    <div class=\"colab-df-container\">\n",
              "      <div>\n",
              "<style scoped>\n",
              "    .dataframe tbody tr th:only-of-type {\n",
              "        vertical-align: middle;\n",
              "    }\n",
              "\n",
              "    .dataframe tbody tr th {\n",
              "        vertical-align: top;\n",
              "    }\n",
              "\n",
              "    .dataframe thead th {\n",
              "        text-align: right;\n",
              "    }\n",
              "</style>\n",
              "<table border=\"1\" class=\"dataframe\">\n",
              "  <thead>\n",
              "    <tr style=\"text-align: right;\">\n",
              "      <th></th>\n",
              "      <th>Вероятность схожести</th>\n",
              "      <th>Расстояние между предметами</th>\n",
              "      <th>Предмет 1</th>\n",
              "      <th>Предмет 2</th>\n",
              "    </tr>\n",
              "  </thead>\n",
              "  <tbody>\n",
              "    <tr>\n",
              "      <th>1815</th>\n",
              "      <td>1.754259e-02</td>\n",
              "      <td>4.043124</td>\n",
              "      <td>Машинное обучение 1 2</td>\n",
              "      <td>Введение в блокчейн 3</td>\n",
              "    </tr>\n",
              "    <tr>\n",
              "      <th>1811</th>\n",
              "      <td>6.800793e-03</td>\n",
              "      <td>4.990716</td>\n",
              "      <td>Машинное обучение 1 2</td>\n",
              "      <td>Обучение с подкреплением 3</td>\n",
              "    </tr>\n",
              "    <tr>\n",
              "      <th>1818</th>\n",
              "      <td>2.590627e-06</td>\n",
              "      <td>12.863611</td>\n",
              "      <td>Машинное обучение 1 2</td>\n",
              "      <td>DevOps 3</td>\n",
              "    </tr>\n",
              "    <tr>\n",
              "      <th>1780</th>\n",
              "      <td>4.652608e-08</td>\n",
              "      <td>16.883253</td>\n",
              "      <td>Машинное обучение 1 2</td>\n",
              "      <td>Алгоритмы и структуры данных 2 1</td>\n",
              "    </tr>\n",
              "    <tr>\n",
              "      <th>1786</th>\n",
              "      <td>7.408177e-09</td>\n",
              "      <td>18.720681</td>\n",
              "      <td>Машинное обучение 1 2</td>\n",
              "      <td>Методы оптимизации 4</td>\n",
              "    </tr>\n",
              "  </tbody>\n",
              "</table>\n",
              "</div>\n",
              "      <button class=\"colab-df-convert\" onclick=\"convertToInteractive('df-46e3d88b-69a4-4926-b976-f42cf4ed3383')\"\n",
              "              title=\"Convert this dataframe to an interactive table.\"\n",
              "              style=\"display:none;\">\n",
              "        \n",
              "  <svg xmlns=\"http://www.w3.org/2000/svg\" height=\"24px\"viewBox=\"0 0 24 24\"\n",
              "       width=\"24px\">\n",
              "    <path d=\"M0 0h24v24H0V0z\" fill=\"none\"/>\n",
              "    <path d=\"M18.56 5.44l.94 2.06.94-2.06 2.06-.94-2.06-.94-.94-2.06-.94 2.06-2.06.94zm-11 1L8.5 8.5l.94-2.06 2.06-.94-2.06-.94L8.5 2.5l-.94 2.06-2.06.94zm10 10l.94 2.06.94-2.06 2.06-.94-2.06-.94-.94-2.06-.94 2.06-2.06.94z\"/><path d=\"M17.41 7.96l-1.37-1.37c-.4-.4-.92-.59-1.43-.59-.52 0-1.04.2-1.43.59L10.3 9.45l-7.72 7.72c-.78.78-.78 2.05 0 2.83L4 21.41c.39.39.9.59 1.41.59.51 0 1.02-.2 1.41-.59l7.78-7.78 2.81-2.81c.8-.78.8-2.07 0-2.86zM5.41 20L4 18.59l7.72-7.72 1.47 1.35L5.41 20z\"/>\n",
              "  </svg>\n",
              "      </button>\n",
              "      \n",
              "  <style>\n",
              "    .colab-df-container {\n",
              "      display:flex;\n",
              "      flex-wrap:wrap;\n",
              "      gap: 12px;\n",
              "    }\n",
              "\n",
              "    .colab-df-convert {\n",
              "      background-color: #E8F0FE;\n",
              "      border: none;\n",
              "      border-radius: 50%;\n",
              "      cursor: pointer;\n",
              "      display: none;\n",
              "      fill: #1967D2;\n",
              "      height: 32px;\n",
              "      padding: 0 0 0 0;\n",
              "      width: 32px;\n",
              "    }\n",
              "\n",
              "    .colab-df-convert:hover {\n",
              "      background-color: #E2EBFA;\n",
              "      box-shadow: 0px 1px 2px rgba(60, 64, 67, 0.3), 0px 1px 3px 1px rgba(60, 64, 67, 0.15);\n",
              "      fill: #174EA6;\n",
              "    }\n",
              "\n",
              "    [theme=dark] .colab-df-convert {\n",
              "      background-color: #3B4455;\n",
              "      fill: #D2E3FC;\n",
              "    }\n",
              "\n",
              "    [theme=dark] .colab-df-convert:hover {\n",
              "      background-color: #434B5C;\n",
              "      box-shadow: 0px 1px 3px 1px rgba(0, 0, 0, 0.15);\n",
              "      filter: drop-shadow(0px 1px 2px rgba(0, 0, 0, 0.3));\n",
              "      fill: #FFFFFF;\n",
              "    }\n",
              "  </style>\n",
              "\n",
              "      <script>\n",
              "        const buttonEl =\n",
              "          document.querySelector('#df-46e3d88b-69a4-4926-b976-f42cf4ed3383 button.colab-df-convert');\n",
              "        buttonEl.style.display =\n",
              "          google.colab.kernel.accessAllowed ? 'block' : 'none';\n",
              "\n",
              "        async function convertToInteractive(key) {\n",
              "          const element = document.querySelector('#df-46e3d88b-69a4-4926-b976-f42cf4ed3383');\n",
              "          const dataTable =\n",
              "            await google.colab.kernel.invokeFunction('convertToInteractive',\n",
              "                                                     [key], {});\n",
              "          if (!dataTable) return;\n",
              "\n",
              "          const docLinkHtml = 'Like what you see? Visit the ' +\n",
              "            '<a target=\"_blank\" href=https://colab.research.google.com/notebooks/data_table.ipynb>data table notebook</a>'\n",
              "            + ' to learn more about interactive tables.';\n",
              "          element.innerHTML = '';\n",
              "          dataTable['output_type'] = 'display_data';\n",
              "          await google.colab.output.renderOutput(dataTable, element);\n",
              "          const docLink = document.createElement('div');\n",
              "          docLink.innerHTML = docLinkHtml;\n",
              "          element.appendChild(docLink);\n",
              "        }\n",
              "      </script>\n",
              "    </div>\n",
              "  </div>\n",
              "  "
            ]
          },
          "metadata": {},
          "execution_count": 3
        }
      ]
    },
    {
      "cell_type": "code",
      "source": [
        "lin_algebra = sub_similarity.loc[sub_similarity[\"Предмет 1\"] == \"Линейная алгебра и геометрия 2\"]\n",
        "lin_algebra = lin_algebra.sort_values(by=[\"Вероятность схожести\"], ascending=False)\n",
        "lin_algebra.head()"
      ],
      "metadata": {
        "colab": {
          "base_uri": "https://localhost:8080/",
          "height": 206
        },
        "id": "YPDSnbDBk9ux",
        "outputId": "8b60f1a3-8185-4eb5-e51a-605534ddb876"
      },
      "execution_count": 4,
      "outputs": [
        {
          "output_type": "execute_result",
          "data": {
            "text/plain": [
              "     Вероятность схожести  Расстояние между предметами  \\\n",
              "914              0.856118                     0.155347   \n",
              "962              0.834290                     0.181175   \n",
              "934              0.823809                     0.193817   \n",
              "943              0.818352                     0.200463   \n",
              "931              0.813823                     0.206013   \n",
              "\n",
              "                          Предмет 1  \\\n",
              "914  Линейная алгебра и геометрия 2   \n",
              "962  Линейная алгебра и геометрия 2   \n",
              "934  Линейная алгебра и геометрия 2   \n",
              "943  Линейная алгебра и геометрия 2   \n",
              "931  Линейная алгебра и геометрия 2   \n",
              "\n",
              "                                             Предмет 2  \n",
              "914     Дополнительные главы дискретной математики 1 2  \n",
              "962  Научно-исследовательский семинар \"Теоретическа...  \n",
              "934                           Дискретная оптимизация 4  \n",
              "943  Научно-исследовательский семинар \"Теоретическа...  \n",
              "931       Дополнительные главы прикладной статистики 4  "
            ],
            "text/html": [
              "\n",
              "  <div id=\"df-daa60620-7a48-4cc8-8e52-3eb7b1985bda\">\n",
              "    <div class=\"colab-df-container\">\n",
              "      <div>\n",
              "<style scoped>\n",
              "    .dataframe tbody tr th:only-of-type {\n",
              "        vertical-align: middle;\n",
              "    }\n",
              "\n",
              "    .dataframe tbody tr th {\n",
              "        vertical-align: top;\n",
              "    }\n",
              "\n",
              "    .dataframe thead th {\n",
              "        text-align: right;\n",
              "    }\n",
              "</style>\n",
              "<table border=\"1\" class=\"dataframe\">\n",
              "  <thead>\n",
              "    <tr style=\"text-align: right;\">\n",
              "      <th></th>\n",
              "      <th>Вероятность схожести</th>\n",
              "      <th>Расстояние между предметами</th>\n",
              "      <th>Предмет 1</th>\n",
              "      <th>Предмет 2</th>\n",
              "    </tr>\n",
              "  </thead>\n",
              "  <tbody>\n",
              "    <tr>\n",
              "      <th>914</th>\n",
              "      <td>0.856118</td>\n",
              "      <td>0.155347</td>\n",
              "      <td>Линейная алгебра и геометрия 2</td>\n",
              "      <td>Дополнительные главы дискретной математики 1 2</td>\n",
              "    </tr>\n",
              "    <tr>\n",
              "      <th>962</th>\n",
              "      <td>0.834290</td>\n",
              "      <td>0.181175</td>\n",
              "      <td>Линейная алгебра и геометрия 2</td>\n",
              "      <td>Научно-исследовательский семинар \"Теоретическа...</td>\n",
              "    </tr>\n",
              "    <tr>\n",
              "      <th>934</th>\n",
              "      <td>0.823809</td>\n",
              "      <td>0.193817</td>\n",
              "      <td>Линейная алгебра и геометрия 2</td>\n",
              "      <td>Дискретная оптимизация 4</td>\n",
              "    </tr>\n",
              "    <tr>\n",
              "      <th>943</th>\n",
              "      <td>0.818352</td>\n",
              "      <td>0.200463</td>\n",
              "      <td>Линейная алгебра и геометрия 2</td>\n",
              "      <td>Научно-исследовательский семинар \"Теоретическа...</td>\n",
              "    </tr>\n",
              "    <tr>\n",
              "      <th>931</th>\n",
              "      <td>0.813823</td>\n",
              "      <td>0.206013</td>\n",
              "      <td>Линейная алгебра и геометрия 2</td>\n",
              "      <td>Дополнительные главы прикладной статистики 4</td>\n",
              "    </tr>\n",
              "  </tbody>\n",
              "</table>\n",
              "</div>\n",
              "      <button class=\"colab-df-convert\" onclick=\"convertToInteractive('df-daa60620-7a48-4cc8-8e52-3eb7b1985bda')\"\n",
              "              title=\"Convert this dataframe to an interactive table.\"\n",
              "              style=\"display:none;\">\n",
              "        \n",
              "  <svg xmlns=\"http://www.w3.org/2000/svg\" height=\"24px\"viewBox=\"0 0 24 24\"\n",
              "       width=\"24px\">\n",
              "    <path d=\"M0 0h24v24H0V0z\" fill=\"none\"/>\n",
              "    <path d=\"M18.56 5.44l.94 2.06.94-2.06 2.06-.94-2.06-.94-.94-2.06-.94 2.06-2.06.94zm-11 1L8.5 8.5l.94-2.06 2.06-.94-2.06-.94L8.5 2.5l-.94 2.06-2.06.94zm10 10l.94 2.06.94-2.06 2.06-.94-2.06-.94-.94-2.06-.94 2.06-2.06.94z\"/><path d=\"M17.41 7.96l-1.37-1.37c-.4-.4-.92-.59-1.43-.59-.52 0-1.04.2-1.43.59L10.3 9.45l-7.72 7.72c-.78.78-.78 2.05 0 2.83L4 21.41c.39.39.9.59 1.41.59.51 0 1.02-.2 1.41-.59l7.78-7.78 2.81-2.81c.8-.78.8-2.07 0-2.86zM5.41 20L4 18.59l7.72-7.72 1.47 1.35L5.41 20z\"/>\n",
              "  </svg>\n",
              "      </button>\n",
              "      \n",
              "  <style>\n",
              "    .colab-df-container {\n",
              "      display:flex;\n",
              "      flex-wrap:wrap;\n",
              "      gap: 12px;\n",
              "    }\n",
              "\n",
              "    .colab-df-convert {\n",
              "      background-color: #E8F0FE;\n",
              "      border: none;\n",
              "      border-radius: 50%;\n",
              "      cursor: pointer;\n",
              "      display: none;\n",
              "      fill: #1967D2;\n",
              "      height: 32px;\n",
              "      padding: 0 0 0 0;\n",
              "      width: 32px;\n",
              "    }\n",
              "\n",
              "    .colab-df-convert:hover {\n",
              "      background-color: #E2EBFA;\n",
              "      box-shadow: 0px 1px 2px rgba(60, 64, 67, 0.3), 0px 1px 3px 1px rgba(60, 64, 67, 0.15);\n",
              "      fill: #174EA6;\n",
              "    }\n",
              "\n",
              "    [theme=dark] .colab-df-convert {\n",
              "      background-color: #3B4455;\n",
              "      fill: #D2E3FC;\n",
              "    }\n",
              "\n",
              "    [theme=dark] .colab-df-convert:hover {\n",
              "      background-color: #434B5C;\n",
              "      box-shadow: 0px 1px 3px 1px rgba(0, 0, 0, 0.15);\n",
              "      filter: drop-shadow(0px 1px 2px rgba(0, 0, 0, 0.3));\n",
              "      fill: #FFFFFF;\n",
              "    }\n",
              "  </style>\n",
              "\n",
              "      <script>\n",
              "        const buttonEl =\n",
              "          document.querySelector('#df-daa60620-7a48-4cc8-8e52-3eb7b1985bda button.colab-df-convert');\n",
              "        buttonEl.style.display =\n",
              "          google.colab.kernel.accessAllowed ? 'block' : 'none';\n",
              "\n",
              "        async function convertToInteractive(key) {\n",
              "          const element = document.querySelector('#df-daa60620-7a48-4cc8-8e52-3eb7b1985bda');\n",
              "          const dataTable =\n",
              "            await google.colab.kernel.invokeFunction('convertToInteractive',\n",
              "                                                     [key], {});\n",
              "          if (!dataTable) return;\n",
              "\n",
              "          const docLinkHtml = 'Like what you see? Visit the ' +\n",
              "            '<a target=\"_blank\" href=https://colab.research.google.com/notebooks/data_table.ipynb>data table notebook</a>'\n",
              "            + ' to learn more about interactive tables.';\n",
              "          element.innerHTML = '';\n",
              "          dataTable['output_type'] = 'display_data';\n",
              "          await google.colab.output.renderOutput(dataTable, element);\n",
              "          const docLink = document.createElement('div');\n",
              "          docLink.innerHTML = docLinkHtml;\n",
              "          element.appendChild(docLink);\n",
              "        }\n",
              "      </script>\n",
              "    </div>\n",
              "  </div>\n",
              "  "
            ]
          },
          "metadata": {},
          "execution_count": 4
        }
      ]
    },
    {
      "cell_type": "code",
      "source": [
        "calculus = sub_similarity.loc[sub_similarity[\"Предмет 1\"] == \"Математический анализ 2 2\"]\n",
        "calculus = calculus.sort_values(by=[\"Расстояние между предметами\"])\n",
        "calculus.tail(7)"
      ],
      "metadata": {
        "colab": {
          "base_uri": "https://localhost:8080/",
          "height": 269
        },
        "id": "uMjbcOTLk9xc",
        "outputId": "8f8fcf22-abeb-416f-c54a-64cc7cbc4d9a"
      },
      "execution_count": 5,
      "outputs": [
        {
          "output_type": "execute_result",
          "data": {
            "text/plain": [
              "      Вероятность схожести  Расстояние между предметами  \\\n",
              "1258          4.075328e-06                    12.410559   \n",
              "1290          3.762671e-06                    12.490382   \n",
              "1246          7.130362e-07                    14.153734   \n",
              "1252          2.271031e-07                    15.297862   \n",
              "1249          6.161654e-08                    16.602335   \n",
              "1247          9.958701e-12                    25.332575   \n",
              "1240          1.455280e-12                    27.255823   \n",
              "\n",
              "                      Предмет 1                                Предмет 2  \n",
              "1258  Математический анализ 2 2                     Методы оптимизации 4  \n",
              "1290  Математический анализ 2 2                                 DevOps 3  \n",
              "1246  Математический анализ 2 2          Введение в глубинное обучение 3  \n",
              "1252  Математический анализ 2 2         Алгоритмы и структуры данных 2 1  \n",
              "1249  Математический анализ 2 2                    Машинное обучение 1 2  \n",
              "1247  Математический анализ 2 2                Дискретная математика 2 2  \n",
              "1240  Математический анализ 2 2  Основы и методология программирования 1  "
            ],
            "text/html": [
              "\n",
              "  <div id=\"df-cd482a86-0fd0-421d-b636-8f08c9156f1b\">\n",
              "    <div class=\"colab-df-container\">\n",
              "      <div>\n",
              "<style scoped>\n",
              "    .dataframe tbody tr th:only-of-type {\n",
              "        vertical-align: middle;\n",
              "    }\n",
              "\n",
              "    .dataframe tbody tr th {\n",
              "        vertical-align: top;\n",
              "    }\n",
              "\n",
              "    .dataframe thead th {\n",
              "        text-align: right;\n",
              "    }\n",
              "</style>\n",
              "<table border=\"1\" class=\"dataframe\">\n",
              "  <thead>\n",
              "    <tr style=\"text-align: right;\">\n",
              "      <th></th>\n",
              "      <th>Вероятность схожести</th>\n",
              "      <th>Расстояние между предметами</th>\n",
              "      <th>Предмет 1</th>\n",
              "      <th>Предмет 2</th>\n",
              "    </tr>\n",
              "  </thead>\n",
              "  <tbody>\n",
              "    <tr>\n",
              "      <th>1258</th>\n",
              "      <td>4.075328e-06</td>\n",
              "      <td>12.410559</td>\n",
              "      <td>Математический анализ 2 2</td>\n",
              "      <td>Методы оптимизации 4</td>\n",
              "    </tr>\n",
              "    <tr>\n",
              "      <th>1290</th>\n",
              "      <td>3.762671e-06</td>\n",
              "      <td>12.490382</td>\n",
              "      <td>Математический анализ 2 2</td>\n",
              "      <td>DevOps 3</td>\n",
              "    </tr>\n",
              "    <tr>\n",
              "      <th>1246</th>\n",
              "      <td>7.130362e-07</td>\n",
              "      <td>14.153734</td>\n",
              "      <td>Математический анализ 2 2</td>\n",
              "      <td>Введение в глубинное обучение 3</td>\n",
              "    </tr>\n",
              "    <tr>\n",
              "      <th>1252</th>\n",
              "      <td>2.271031e-07</td>\n",
              "      <td>15.297862</td>\n",
              "      <td>Математический анализ 2 2</td>\n",
              "      <td>Алгоритмы и структуры данных 2 1</td>\n",
              "    </tr>\n",
              "    <tr>\n",
              "      <th>1249</th>\n",
              "      <td>6.161654e-08</td>\n",
              "      <td>16.602335</td>\n",
              "      <td>Математический анализ 2 2</td>\n",
              "      <td>Машинное обучение 1 2</td>\n",
              "    </tr>\n",
              "    <tr>\n",
              "      <th>1247</th>\n",
              "      <td>9.958701e-12</td>\n",
              "      <td>25.332575</td>\n",
              "      <td>Математический анализ 2 2</td>\n",
              "      <td>Дискретная математика 2 2</td>\n",
              "    </tr>\n",
              "    <tr>\n",
              "      <th>1240</th>\n",
              "      <td>1.455280e-12</td>\n",
              "      <td>27.255823</td>\n",
              "      <td>Математический анализ 2 2</td>\n",
              "      <td>Основы и методология программирования 1</td>\n",
              "    </tr>\n",
              "  </tbody>\n",
              "</table>\n",
              "</div>\n",
              "      <button class=\"colab-df-convert\" onclick=\"convertToInteractive('df-cd482a86-0fd0-421d-b636-8f08c9156f1b')\"\n",
              "              title=\"Convert this dataframe to an interactive table.\"\n",
              "              style=\"display:none;\">\n",
              "        \n",
              "  <svg xmlns=\"http://www.w3.org/2000/svg\" height=\"24px\"viewBox=\"0 0 24 24\"\n",
              "       width=\"24px\">\n",
              "    <path d=\"M0 0h24v24H0V0z\" fill=\"none\"/>\n",
              "    <path d=\"M18.56 5.44l.94 2.06.94-2.06 2.06-.94-2.06-.94-.94-2.06-.94 2.06-2.06.94zm-11 1L8.5 8.5l.94-2.06 2.06-.94-2.06-.94L8.5 2.5l-.94 2.06-2.06.94zm10 10l.94 2.06.94-2.06 2.06-.94-2.06-.94-.94-2.06-.94 2.06-2.06.94z\"/><path d=\"M17.41 7.96l-1.37-1.37c-.4-.4-.92-.59-1.43-.59-.52 0-1.04.2-1.43.59L10.3 9.45l-7.72 7.72c-.78.78-.78 2.05 0 2.83L4 21.41c.39.39.9.59 1.41.59.51 0 1.02-.2 1.41-.59l7.78-7.78 2.81-2.81c.8-.78.8-2.07 0-2.86zM5.41 20L4 18.59l7.72-7.72 1.47 1.35L5.41 20z\"/>\n",
              "  </svg>\n",
              "      </button>\n",
              "      \n",
              "  <style>\n",
              "    .colab-df-container {\n",
              "      display:flex;\n",
              "      flex-wrap:wrap;\n",
              "      gap: 12px;\n",
              "    }\n",
              "\n",
              "    .colab-df-convert {\n",
              "      background-color: #E8F0FE;\n",
              "      border: none;\n",
              "      border-radius: 50%;\n",
              "      cursor: pointer;\n",
              "      display: none;\n",
              "      fill: #1967D2;\n",
              "      height: 32px;\n",
              "      padding: 0 0 0 0;\n",
              "      width: 32px;\n",
              "    }\n",
              "\n",
              "    .colab-df-convert:hover {\n",
              "      background-color: #E2EBFA;\n",
              "      box-shadow: 0px 1px 2px rgba(60, 64, 67, 0.3), 0px 1px 3px 1px rgba(60, 64, 67, 0.15);\n",
              "      fill: #174EA6;\n",
              "    }\n",
              "\n",
              "    [theme=dark] .colab-df-convert {\n",
              "      background-color: #3B4455;\n",
              "      fill: #D2E3FC;\n",
              "    }\n",
              "\n",
              "    [theme=dark] .colab-df-convert:hover {\n",
              "      background-color: #434B5C;\n",
              "      box-shadow: 0px 1px 3px 1px rgba(0, 0, 0, 0.15);\n",
              "      filter: drop-shadow(0px 1px 2px rgba(0, 0, 0, 0.3));\n",
              "      fill: #FFFFFF;\n",
              "    }\n",
              "  </style>\n",
              "\n",
              "      <script>\n",
              "        const buttonEl =\n",
              "          document.querySelector('#df-cd482a86-0fd0-421d-b636-8f08c9156f1b button.colab-df-convert');\n",
              "        buttonEl.style.display =\n",
              "          google.colab.kernel.accessAllowed ? 'block' : 'none';\n",
              "\n",
              "        async function convertToInteractive(key) {\n",
              "          const element = document.querySelector('#df-cd482a86-0fd0-421d-b636-8f08c9156f1b');\n",
              "          const dataTable =\n",
              "            await google.colab.kernel.invokeFunction('convertToInteractive',\n",
              "                                                     [key], {});\n",
              "          if (!dataTable) return;\n",
              "\n",
              "          const docLinkHtml = 'Like what you see? Visit the ' +\n",
              "            '<a target=\"_blank\" href=https://colab.research.google.com/notebooks/data_table.ipynb>data table notebook</a>'\n",
              "            + ' to learn more about interactive tables.';\n",
              "          element.innerHTML = '';\n",
              "          dataTable['output_type'] = 'display_data';\n",
              "          await google.colab.output.renderOutput(dataTable, element);\n",
              "          const docLink = document.createElement('div');\n",
              "          docLink.innerHTML = docLinkHtml;\n",
              "          element.appendChild(docLink);\n",
              "        }\n",
              "      </script>\n",
              "    </div>\n",
              "  </div>\n",
              "  "
            ]
          },
          "metadata": {},
          "execution_count": 5
        }
      ]
    },
    {
      "cell_type": "code",
      "source": [
        "calculus.head(7)"
      ],
      "metadata": {
        "colab": {
          "base_uri": "https://localhost:8080/",
          "height": 269
        },
        "id": "OMMjepIIk90o",
        "outputId": "d45e1582-ef77-41e0-904b-056b19514d17"
      },
      "execution_count": 6,
      "outputs": [
        {
          "output_type": "execute_result",
          "data": {
            "text/plain": [
              "      Вероятность схожести  Расстояние между предметами  \\\n",
              "1288              0.889630                     0.116950   \n",
              "1313              0.834239                     0.181235   \n",
              "1254              0.810770                     0.209771   \n",
              "1309              0.775270                     0.254544   \n",
              "1291              0.775170                     0.254673   \n",
              "1266              0.774529                     0.255500   \n",
              "1285              0.756095                     0.279588   \n",
              "\n",
              "                      Предмет 1  \\\n",
              "1288  Математический анализ 2 2   \n",
              "1313  Математический анализ 2 2   \n",
              "1254  Математический анализ 2 2   \n",
              "1309  Математический анализ 2 2   \n",
              "1291  Математический анализ 2 2   \n",
              "1266  Математический анализ 2 2   \n",
              "1285  Математический анализ 2 2   \n",
              "\n",
              "                                              Предмет 2  \n",
              "1288                   Трёхмерное компьютерное зрение 3  \n",
              "1313            Односторонние функции и их применения 2  \n",
              "1254       Дополнительные главы прикладной статистики 4  \n",
              "1309           Байесовские методы в машинном обучении 2  \n",
              "1291            Введение в дифференциальную геометрию 3  \n",
              "1266  Научно-исследовательский семинар \"Теоретическа...  \n",
              "1285  Научно-исследовательский семинар \"Теоретическа...  "
            ],
            "text/html": [
              "\n",
              "  <div id=\"df-1922cb33-15b4-4b68-a1ce-4ef080ef9b46\">\n",
              "    <div class=\"colab-df-container\">\n",
              "      <div>\n",
              "<style scoped>\n",
              "    .dataframe tbody tr th:only-of-type {\n",
              "        vertical-align: middle;\n",
              "    }\n",
              "\n",
              "    .dataframe tbody tr th {\n",
              "        vertical-align: top;\n",
              "    }\n",
              "\n",
              "    .dataframe thead th {\n",
              "        text-align: right;\n",
              "    }\n",
              "</style>\n",
              "<table border=\"1\" class=\"dataframe\">\n",
              "  <thead>\n",
              "    <tr style=\"text-align: right;\">\n",
              "      <th></th>\n",
              "      <th>Вероятность схожести</th>\n",
              "      <th>Расстояние между предметами</th>\n",
              "      <th>Предмет 1</th>\n",
              "      <th>Предмет 2</th>\n",
              "    </tr>\n",
              "  </thead>\n",
              "  <tbody>\n",
              "    <tr>\n",
              "      <th>1288</th>\n",
              "      <td>0.889630</td>\n",
              "      <td>0.116950</td>\n",
              "      <td>Математический анализ 2 2</td>\n",
              "      <td>Трёхмерное компьютерное зрение 3</td>\n",
              "    </tr>\n",
              "    <tr>\n",
              "      <th>1313</th>\n",
              "      <td>0.834239</td>\n",
              "      <td>0.181235</td>\n",
              "      <td>Математический анализ 2 2</td>\n",
              "      <td>Односторонние функции и их применения 2</td>\n",
              "    </tr>\n",
              "    <tr>\n",
              "      <th>1254</th>\n",
              "      <td>0.810770</td>\n",
              "      <td>0.209771</td>\n",
              "      <td>Математический анализ 2 2</td>\n",
              "      <td>Дополнительные главы прикладной статистики 4</td>\n",
              "    </tr>\n",
              "    <tr>\n",
              "      <th>1309</th>\n",
              "      <td>0.775270</td>\n",
              "      <td>0.254544</td>\n",
              "      <td>Математический анализ 2 2</td>\n",
              "      <td>Байесовские методы в машинном обучении 2</td>\n",
              "    </tr>\n",
              "    <tr>\n",
              "      <th>1291</th>\n",
              "      <td>0.775170</td>\n",
              "      <td>0.254673</td>\n",
              "      <td>Математический анализ 2 2</td>\n",
              "      <td>Введение в дифференциальную геометрию 3</td>\n",
              "    </tr>\n",
              "    <tr>\n",
              "      <th>1266</th>\n",
              "      <td>0.774529</td>\n",
              "      <td>0.255500</td>\n",
              "      <td>Математический анализ 2 2</td>\n",
              "      <td>Научно-исследовательский семинар \"Теоретическа...</td>\n",
              "    </tr>\n",
              "    <tr>\n",
              "      <th>1285</th>\n",
              "      <td>0.756095</td>\n",
              "      <td>0.279588</td>\n",
              "      <td>Математический анализ 2 2</td>\n",
              "      <td>Научно-исследовательский семинар \"Теоретическа...</td>\n",
              "    </tr>\n",
              "  </tbody>\n",
              "</table>\n",
              "</div>\n",
              "      <button class=\"colab-df-convert\" onclick=\"convertToInteractive('df-1922cb33-15b4-4b68-a1ce-4ef080ef9b46')\"\n",
              "              title=\"Convert this dataframe to an interactive table.\"\n",
              "              style=\"display:none;\">\n",
              "        \n",
              "  <svg xmlns=\"http://www.w3.org/2000/svg\" height=\"24px\"viewBox=\"0 0 24 24\"\n",
              "       width=\"24px\">\n",
              "    <path d=\"M0 0h24v24H0V0z\" fill=\"none\"/>\n",
              "    <path d=\"M18.56 5.44l.94 2.06.94-2.06 2.06-.94-2.06-.94-.94-2.06-.94 2.06-2.06.94zm-11 1L8.5 8.5l.94-2.06 2.06-.94-2.06-.94L8.5 2.5l-.94 2.06-2.06.94zm10 10l.94 2.06.94-2.06 2.06-.94-2.06-.94-.94-2.06-.94 2.06-2.06.94z\"/><path d=\"M17.41 7.96l-1.37-1.37c-.4-.4-.92-.59-1.43-.59-.52 0-1.04.2-1.43.59L10.3 9.45l-7.72 7.72c-.78.78-.78 2.05 0 2.83L4 21.41c.39.39.9.59 1.41.59.51 0 1.02-.2 1.41-.59l7.78-7.78 2.81-2.81c.8-.78.8-2.07 0-2.86zM5.41 20L4 18.59l7.72-7.72 1.47 1.35L5.41 20z\"/>\n",
              "  </svg>\n",
              "      </button>\n",
              "      \n",
              "  <style>\n",
              "    .colab-df-container {\n",
              "      display:flex;\n",
              "      flex-wrap:wrap;\n",
              "      gap: 12px;\n",
              "    }\n",
              "\n",
              "    .colab-df-convert {\n",
              "      background-color: #E8F0FE;\n",
              "      border: none;\n",
              "      border-radius: 50%;\n",
              "      cursor: pointer;\n",
              "      display: none;\n",
              "      fill: #1967D2;\n",
              "      height: 32px;\n",
              "      padding: 0 0 0 0;\n",
              "      width: 32px;\n",
              "    }\n",
              "\n",
              "    .colab-df-convert:hover {\n",
              "      background-color: #E2EBFA;\n",
              "      box-shadow: 0px 1px 2px rgba(60, 64, 67, 0.3), 0px 1px 3px 1px rgba(60, 64, 67, 0.15);\n",
              "      fill: #174EA6;\n",
              "    }\n",
              "\n",
              "    [theme=dark] .colab-df-convert {\n",
              "      background-color: #3B4455;\n",
              "      fill: #D2E3FC;\n",
              "    }\n",
              "\n",
              "    [theme=dark] .colab-df-convert:hover {\n",
              "      background-color: #434B5C;\n",
              "      box-shadow: 0px 1px 3px 1px rgba(0, 0, 0, 0.15);\n",
              "      filter: drop-shadow(0px 1px 2px rgba(0, 0, 0, 0.3));\n",
              "      fill: #FFFFFF;\n",
              "    }\n",
              "  </style>\n",
              "\n",
              "      <script>\n",
              "        const buttonEl =\n",
              "          document.querySelector('#df-1922cb33-15b4-4b68-a1ce-4ef080ef9b46 button.colab-df-convert');\n",
              "        buttonEl.style.display =\n",
              "          google.colab.kernel.accessAllowed ? 'block' : 'none';\n",
              "\n",
              "        async function convertToInteractive(key) {\n",
              "          const element = document.querySelector('#df-1922cb33-15b4-4b68-a1ce-4ef080ef9b46');\n",
              "          const dataTable =\n",
              "            await google.colab.kernel.invokeFunction('convertToInteractive',\n",
              "                                                     [key], {});\n",
              "          if (!dataTable) return;\n",
              "\n",
              "          const docLinkHtml = 'Like what you see? Visit the ' +\n",
              "            '<a target=\"_blank\" href=https://colab.research.google.com/notebooks/data_table.ipynb>data table notebook</a>'\n",
              "            + ' to learn more about interactive tables.';\n",
              "          element.innerHTML = '';\n",
              "          dataTable['output_type'] = 'display_data';\n",
              "          await google.colab.output.renderOutput(dataTable, element);\n",
              "          const docLink = document.createElement('div');\n",
              "          docLink.innerHTML = docLinkHtml;\n",
              "          element.appendChild(docLink);\n",
              "        }\n",
              "      </script>\n",
              "    </div>\n",
              "  </div>\n",
              "  "
            ]
          },
          "metadata": {},
          "execution_count": 6
        }
      ]
    },
    {
      "cell_type": "markdown",
      "source": [
        "#Визуализация работы алгоритма для набора 2018 года"
      ],
      "metadata": {
        "id": "dm4UJ7TVWzHZ"
      }
    },
    {
      "cell_type": "markdown",
      "source": [
        "Изначально на анализ поступило 150, однако после фильтрации предметов их количество изменилось. Найдем количество оставшихся предметов:"
      ],
      "metadata": {
        "id": "iAq-iMiSJpZR"
      }
    },
    {
      "cell_type": "code",
      "source": [
        "def number_filter_subjects(df):\n",
        "  sb_1 = set(pd.unique(df[\"Предмет 1\"]))\n",
        "  sb_2 = set(pd.unique(df[\"Предмет 2\"]))\n",
        "  filter_subjects = len(sb_1 | sb_2)\n",
        "  return filter_subjects"
      ],
      "metadata": {
        "id": "mtiGT-rLdfQA"
      },
      "execution_count": 7,
      "outputs": []
    },
    {
      "cell_type": "code",
      "source": [
        "filter_subjects = number_filter_subjects(sub_similarity)\n",
        "print(\"Количество оставшихся предметов:\", filter_subjects)"
      ],
      "metadata": {
        "colab": {
          "base_uri": "https://localhost:8080/"
        },
        "id": "T_ETnEaaJqSt",
        "outputId": "3ddcd293-1b1b-4bd5-bf06-21452a9d779e"
      },
      "execution_count": 8,
      "outputs": [
        {
          "output_type": "stream",
          "name": "stdout",
          "text": [
            "Количество оставшихся предметов: 97\n"
          ]
        }
      ]
    },
    {
      "cell_type": "code",
      "source": [
        "def codes(df, n):  \n",
        "  filter_sub_dict = {}\n",
        "  f_sub = [i for i in range (0, n)]\n",
        "  for i in (set(pd.unique(df[\"Предмет 1\"])) | set(pd.unique(df[\"Предмет 2\"]))):\n",
        "    filter_sub_dict[i] = f_sub[0]\n",
        "    f_sub.pop(0)\n",
        "  return filter_sub_dict"
      ],
      "metadata": {
        "id": "_fJ3_MPjLm5i"
      },
      "execution_count": 9,
      "outputs": []
    },
    {
      "cell_type": "code",
      "source": [
        "filter_sub_dict = codes(sub_similarity, filter_subjects)"
      ],
      "metadata": {
        "id": "BGlwmKHPeRnf"
      },
      "execution_count": 10,
      "outputs": []
    },
    {
      "cell_type": "code",
      "source": [
        "def pair_codes(df, filter_sub_dict):\n",
        "  new_codes = []\n",
        "  for i in range(len(df)):\n",
        "    str_1 = df.iloc[i:(i + 1), :]\n",
        "    sub_1 = str_1[\"Предмет 1\"].values[0]\n",
        "    code_1 = filter_sub_dict[sub_1]\n",
        "    sub_2 = str_1[\"Предмет 2\"].values[0]\n",
        "    code_2 = filter_sub_dict[sub_2]\n",
        "    subjects = [code_1, code_2]\n",
        "    subjects= tuple(subjects)\n",
        "    new_codes.append(subjects)\n",
        "  return new_codes"
      ],
      "metadata": {
        "id": "81PzclxoLm-0"
      },
      "execution_count": 11,
      "outputs": []
    },
    {
      "cell_type": "code",
      "source": [
        "new_codes = pair_codes(sub_similarity, filter_sub_dict)"
      ],
      "metadata": {
        "id": "czf-AMV0fKbh"
      },
      "execution_count": 12,
      "outputs": []
    },
    {
      "cell_type": "code",
      "source": [
        "sub_similarity[\"Новый код предметов\"] = new_codes\n",
        "sub_similarity.head()"
      ],
      "metadata": {
        "colab": {
          "base_uri": "https://localhost:8080/",
          "height": 206
        },
        "id": "hgw8OBKVNnUV",
        "outputId": "60354cbe-870f-4037-9d56-ce1d50d30016"
      },
      "execution_count": 13,
      "outputs": [
        {
          "output_type": "execute_result",
          "data": {
            "text/plain": [
              "   Вероятность схожести  Расстояние между предметами  \\\n",
              "0          7.156021e-01                     0.334631   \n",
              "1          4.560816e-10                    21.508349   \n",
              "2          2.365310e-09                    19.862357   \n",
              "3          4.603071e-10                    21.499127   \n",
              "4          5.777023e-11                    23.574547   \n",
              "\n",
              "                        Предмет 1  \\\n",
              "0  Алгоритмы и структуры данных 4   \n",
              "1  Алгоритмы и структуры данных 4   \n",
              "2  Алгоритмы и структуры данных 4   \n",
              "3  Алгоритмы и структуры данных 4   \n",
              "4  Алгоритмы и структуры данных 4   \n",
              "\n",
              "                                         Предмет 2 Новый код предметов  \n",
              "0         Практикум по математическому анализу 2 4            (50, 71)  \n",
              "1                                        Алгебра 4            (50, 14)  \n",
              "2                   Линейная алгебра и геометрия 4            (50, 70)  \n",
              "3                        Математический анализ 1 4            (50, 62)  \n",
              "4  Архитектура компьютера и операционные системы 4            (50, 93)  "
            ],
            "text/html": [
              "\n",
              "  <div id=\"df-61663dcb-a1a7-4cd3-991a-eb8a66447033\">\n",
              "    <div class=\"colab-df-container\">\n",
              "      <div>\n",
              "<style scoped>\n",
              "    .dataframe tbody tr th:only-of-type {\n",
              "        vertical-align: middle;\n",
              "    }\n",
              "\n",
              "    .dataframe tbody tr th {\n",
              "        vertical-align: top;\n",
              "    }\n",
              "\n",
              "    .dataframe thead th {\n",
              "        text-align: right;\n",
              "    }\n",
              "</style>\n",
              "<table border=\"1\" class=\"dataframe\">\n",
              "  <thead>\n",
              "    <tr style=\"text-align: right;\">\n",
              "      <th></th>\n",
              "      <th>Вероятность схожести</th>\n",
              "      <th>Расстояние между предметами</th>\n",
              "      <th>Предмет 1</th>\n",
              "      <th>Предмет 2</th>\n",
              "      <th>Новый код предметов</th>\n",
              "    </tr>\n",
              "  </thead>\n",
              "  <tbody>\n",
              "    <tr>\n",
              "      <th>0</th>\n",
              "      <td>7.156021e-01</td>\n",
              "      <td>0.334631</td>\n",
              "      <td>Алгоритмы и структуры данных 4</td>\n",
              "      <td>Практикум по математическому анализу 2 4</td>\n",
              "      <td>(50, 71)</td>\n",
              "    </tr>\n",
              "    <tr>\n",
              "      <th>1</th>\n",
              "      <td>4.560816e-10</td>\n",
              "      <td>21.508349</td>\n",
              "      <td>Алгоритмы и структуры данных 4</td>\n",
              "      <td>Алгебра 4</td>\n",
              "      <td>(50, 14)</td>\n",
              "    </tr>\n",
              "    <tr>\n",
              "      <th>2</th>\n",
              "      <td>2.365310e-09</td>\n",
              "      <td>19.862357</td>\n",
              "      <td>Алгоритмы и структуры данных 4</td>\n",
              "      <td>Линейная алгебра и геометрия 4</td>\n",
              "      <td>(50, 70)</td>\n",
              "    </tr>\n",
              "    <tr>\n",
              "      <th>3</th>\n",
              "      <td>4.603071e-10</td>\n",
              "      <td>21.499127</td>\n",
              "      <td>Алгоритмы и структуры данных 4</td>\n",
              "      <td>Математический анализ 1 4</td>\n",
              "      <td>(50, 62)</td>\n",
              "    </tr>\n",
              "    <tr>\n",
              "      <th>4</th>\n",
              "      <td>5.777023e-11</td>\n",
              "      <td>23.574547</td>\n",
              "      <td>Алгоритмы и структуры данных 4</td>\n",
              "      <td>Архитектура компьютера и операционные системы 4</td>\n",
              "      <td>(50, 93)</td>\n",
              "    </tr>\n",
              "  </tbody>\n",
              "</table>\n",
              "</div>\n",
              "      <button class=\"colab-df-convert\" onclick=\"convertToInteractive('df-61663dcb-a1a7-4cd3-991a-eb8a66447033')\"\n",
              "              title=\"Convert this dataframe to an interactive table.\"\n",
              "              style=\"display:none;\">\n",
              "        \n",
              "  <svg xmlns=\"http://www.w3.org/2000/svg\" height=\"24px\"viewBox=\"0 0 24 24\"\n",
              "       width=\"24px\">\n",
              "    <path d=\"M0 0h24v24H0V0z\" fill=\"none\"/>\n",
              "    <path d=\"M18.56 5.44l.94 2.06.94-2.06 2.06-.94-2.06-.94-.94-2.06-.94 2.06-2.06.94zm-11 1L8.5 8.5l.94-2.06 2.06-.94-2.06-.94L8.5 2.5l-.94 2.06-2.06.94zm10 10l.94 2.06.94-2.06 2.06-.94-2.06-.94-.94-2.06-.94 2.06-2.06.94z\"/><path d=\"M17.41 7.96l-1.37-1.37c-.4-.4-.92-.59-1.43-.59-.52 0-1.04.2-1.43.59L10.3 9.45l-7.72 7.72c-.78.78-.78 2.05 0 2.83L4 21.41c.39.39.9.59 1.41.59.51 0 1.02-.2 1.41-.59l7.78-7.78 2.81-2.81c.8-.78.8-2.07 0-2.86zM5.41 20L4 18.59l7.72-7.72 1.47 1.35L5.41 20z\"/>\n",
              "  </svg>\n",
              "      </button>\n",
              "      \n",
              "  <style>\n",
              "    .colab-df-container {\n",
              "      display:flex;\n",
              "      flex-wrap:wrap;\n",
              "      gap: 12px;\n",
              "    }\n",
              "\n",
              "    .colab-df-convert {\n",
              "      background-color: #E8F0FE;\n",
              "      border: none;\n",
              "      border-radius: 50%;\n",
              "      cursor: pointer;\n",
              "      display: none;\n",
              "      fill: #1967D2;\n",
              "      height: 32px;\n",
              "      padding: 0 0 0 0;\n",
              "      width: 32px;\n",
              "    }\n",
              "\n",
              "    .colab-df-convert:hover {\n",
              "      background-color: #E2EBFA;\n",
              "      box-shadow: 0px 1px 2px rgba(60, 64, 67, 0.3), 0px 1px 3px 1px rgba(60, 64, 67, 0.15);\n",
              "      fill: #174EA6;\n",
              "    }\n",
              "\n",
              "    [theme=dark] .colab-df-convert {\n",
              "      background-color: #3B4455;\n",
              "      fill: #D2E3FC;\n",
              "    }\n",
              "\n",
              "    [theme=dark] .colab-df-convert:hover {\n",
              "      background-color: #434B5C;\n",
              "      box-shadow: 0px 1px 3px 1px rgba(0, 0, 0, 0.15);\n",
              "      filter: drop-shadow(0px 1px 2px rgba(0, 0, 0, 0.3));\n",
              "      fill: #FFFFFF;\n",
              "    }\n",
              "  </style>\n",
              "\n",
              "      <script>\n",
              "        const buttonEl =\n",
              "          document.querySelector('#df-61663dcb-a1a7-4cd3-991a-eb8a66447033 button.colab-df-convert');\n",
              "        buttonEl.style.display =\n",
              "          google.colab.kernel.accessAllowed ? 'block' : 'none';\n",
              "\n",
              "        async function convertToInteractive(key) {\n",
              "          const element = document.querySelector('#df-61663dcb-a1a7-4cd3-991a-eb8a66447033');\n",
              "          const dataTable =\n",
              "            await google.colab.kernel.invokeFunction('convertToInteractive',\n",
              "                                                     [key], {});\n",
              "          if (!dataTable) return;\n",
              "\n",
              "          const docLinkHtml = 'Like what you see? Visit the ' +\n",
              "            '<a target=\"_blank\" href=https://colab.research.google.com/notebooks/data_table.ipynb>data table notebook</a>'\n",
              "            + ' to learn more about interactive tables.';\n",
              "          element.innerHTML = '';\n",
              "          dataTable['output_type'] = 'display_data';\n",
              "          await google.colab.output.renderOutput(dataTable, element);\n",
              "          const docLink = document.createElement('div');\n",
              "          docLink.innerHTML = docLinkHtml;\n",
              "          element.appendChild(docLink);\n",
              "        }\n",
              "      </script>\n",
              "    </div>\n",
              "  </div>\n",
              "  "
            ]
          },
          "metadata": {},
          "execution_count": 13
        }
      ]
    },
    {
      "cell_type": "code",
      "source": [
        "def real_dist(df):\n",
        "  real_distance = {}\n",
        "  for i in range(len(df)):\n",
        "    str_1 = df.iloc[i:(i + 1), :]\n",
        "    codes = str_1[\"Новый код предметов\"].values[0]\n",
        "    dist = str_1[\"Расстояние между предметами\"].values[0]\n",
        "    real_distance[codes] = dist\n",
        "  return real_distance"
      ],
      "metadata": {
        "id": "HJ7Ln4HHNnWm"
      },
      "execution_count": 14,
      "outputs": []
    },
    {
      "cell_type": "code",
      "source": [
        "real_distance = real_dist(sub_similarity)"
      ],
      "metadata": {
        "id": "ffA9NDoogVJv"
      },
      "execution_count": 15,
      "outputs": []
    },
    {
      "cell_type": "markdown",
      "source": [
        "Для того, чтобы расположить дисциплины на плоскости, подберем их координаты таким образом, чтобы расстояние между дисциплинами было наиболее близко к реальному (посчитанному алгоритмом) расстоянию:"
      ],
      "metadata": {
        "id": "LnKRagmYKDUe"
      }
    },
    {
      "cell_type": "code",
      "source": [
        "def flat_disciplines_distant(X, real_distance):\n",
        "    n = len(X) // 2\n",
        "    dist = 0\n",
        "    for (i, j) in real_distance.keys():\n",
        "      dist_X = ((X[2*i] - X[2*j])**2 + (X[2*i+1] - X[2*j+1])**2)**0.5     \n",
        "    return (dist)**0.5/n\n",
        "\n",
        "\n",
        "def get_flat_presentation(real_distance, n):\n",
        "    x0 = np.random.random(n*2)\n",
        "    res = minimize(flat_disciplines_distant, x0, real_distance, method='Powell',\n",
        "               options={'xtol': 1e-6, 'disp': False});\n",
        "    return [res.x[::2],res.x[1::2]]\n"
      ],
      "metadata": {
        "id": "KQhzGQXBJqcT"
      },
      "execution_count": 27,
      "outputs": []
    },
    {
      "cell_type": "code",
      "source": [
        "flat_points=get_flat_presentation(real_distance, filter_subjects)"
      ],
      "metadata": {
        "id": "GVQTzlyNJqfx"
      },
      "execution_count": null,
      "outputs": []
    },
    {
      "cell_type": "code",
      "source": [
        "colors = cm.Paired(np.linspace(0, 1, len(flat_points[0])))\n",
        "colors = [col.to_hex(x, keep_alpha=False) for x in colors]\n",
        "\n",
        "for i in range(len(flat_points[0])):\n",
        "  plt.scatter(x=flat_points[0][i], y=flat_points[1][i], c=colors[i], marker=f\"${i+1}$\")\n",
        "plt.show()"
      ],
      "metadata": {
        "colab": {
          "base_uri": "https://localhost:8080/",
          "height": 430
        },
        "id": "OdrtmvmMtdof",
        "outputId": "efa16008-7f2d-490f-fea8-afd7e244e47b"
      },
      "execution_count": null,
      "outputs": [
        {
          "output_type": "display_data",
          "data": {
            "text/plain": [
              "<Figure size 640x480 with 1 Axes>"
            ],
            "image/png": "[encoded data removed]"
          },
          "metadata": {}
        }
      ]
    },
    {
      "cell_type": "code",
      "source": [
        "filter_sub_dict_reverse = {filter_sub_dict[k]: k for k in filter_sub_dict.keys()}"
      ],
      "metadata": {
        "id": "b4pTwULcyYo-"
      },
      "execution_count": 16,
      "outputs": []
    },
    {
      "cell_type": "code",
      "source": [
        "filter_sub_dict_reverse[3]"
      ],
      "metadata": {
        "colab": {
          "base_uri": "https://localhost:8080/",
          "height": 36
        },
        "id": "2Q8meCFuyGIN",
        "outputId": "fee19b20-8236-40ce-a433-b29cf914f877"
      },
      "execution_count": null,
      "outputs": [
        {
          "output_type": "execute_result",
          "data": {
            "text/plain": [
              "'Линейная алгебра и геометрия 4'"
            ],
            "application/vnd.google.colaboratory.intrinsic+json": {
              "type": "string"
            }
          },
          "metadata": {},
          "execution_count": 47
        }
      ]
    },
    {
      "cell_type": "code",
      "source": [
        "filter_sub_dict_reverse[54]"
      ],
      "metadata": {
        "colab": {
          "base_uri": "https://localhost:8080/",
          "height": 36
        },
        "id": "a47_Qmf4y9cj",
        "outputId": "3134cd9c-ff78-4b9e-d6e0-f5ef0180897f"
      },
      "execution_count": null,
      "outputs": [
        {
          "output_type": "execute_result",
          "data": {
            "text/plain": [
              "'Дополнительные главы дискретной математики 1 2'"
            ],
            "application/vnd.google.colaboratory.intrinsic+json": {
              "type": "string"
            }
          },
          "metadata": {},
          "execution_count": 48
        }
      ]
    },
    {
      "cell_type": "code",
      "source": [
        "filter_sub_dict_reverse[5]"
      ],
      "metadata": {
        "colab": {
          "base_uri": "https://localhost:8080/",
          "height": 36
        },
        "id": "ghUKDZQTzB8X",
        "outputId": "bc60a1dd-b286-48a2-9cf6-bc4ab8f0b145"
      },
      "execution_count": null,
      "outputs": [
        {
          "output_type": "execute_result",
          "data": {
            "text/plain": [
              "'Методы оптимизации в машинном обучении 4'"
            ],
            "application/vnd.google.colaboratory.intrinsic+json": {
              "type": "string"
            }
          },
          "metadata": {},
          "execution_count": 39
        }
      ]
    },
    {
      "cell_type": "code",
      "source": [
        "filter_sub_dict_reverse[71]"
      ],
      "metadata": {
        "colab": {
          "base_uri": "https://localhost:8080/",
          "height": 36
        },
        "id": "D7RWlQZPzFUL",
        "outputId": "713aa2ca-19ff-48ba-afaa-7f8b406a2e75"
      },
      "execution_count": null,
      "outputs": [
        {
          "output_type": "execute_result",
          "data": {
            "text/plain": [
              "'Алгоритмы и структуры данных 4'"
            ],
            "application/vnd.google.colaboratory.intrinsic+json": {
              "type": "string"
            }
          },
          "metadata": {},
          "execution_count": 38
        }
      ]
    },
    {
      "cell_type": "code",
      "source": [
        "def plot_dendrogram(model, **kwargs):\n",
        "    counts = np.zeros(model.children_.shape[0])\n",
        "    n_samples = len(model.labels_)\n",
        "    for i, merge in enumerate(model.children_):\n",
        "        current_count = 0\n",
        "        for child_idx in merge:\n",
        "            if child_idx < n_samples:\n",
        "                current_count += 1  \n",
        "            else:\n",
        "                current_count += counts[child_idx - n_samples]\n",
        "        counts[i] = current_count \n",
        "    linkage_matrix = np.column_stack([model.children_, model.distances_,\n",
        "                                      counts]).astype(float)\n",
        "    dendrogram(linkage_matrix, **kwargs)\n",
        "    ax = plt.gca()\n",
        "    ax.tick_params(axis='x', which='major', labelsize=15)\n",
        "    ax.tick_params(axis='y', which='major', labelsize=15)\n",
        "    \n",
        "\n",
        "def clustering(real_distance, n):\n",
        "    dist = np.empty((n,n,))\n",
        "    dist[:] = 1\n",
        "    for pair, value in real_distance.items():\n",
        "            dist[pair[0]][pair[1]] = value**0.5\n",
        "    col_mean = np.nanmean(dist, axis=0)\n",
        "    col_mean[col_mean == float(\"inf\")] = 0\n",
        "    inds = np.where(np.isnan(dist))\n",
        "    dist[inds] = np.take(col_mean, inds[1])\n",
        "    for i in range(n):\n",
        "        dist[i][i] = 0  \n",
        "    dist[dist == float(\"inf\")] = 0\n",
        "    model = AgglomerativeClustering(distance_threshold=0, n_clusters=None, affinity='precomputed', linkage = 'complete')\n",
        "    model.fit_predict(dist)\n",
        "    plt.figure(figsize = (20,7))\n",
        "    plot_dendrogram(model, leaf_label_func= lambda x: str(x), truncate_mode='level', p=n)\n",
        "    plt.show() \n",
        "    "
      ],
      "metadata": {
        "id": "DuBvZe-juWFp"
      },
      "execution_count": 159,
      "outputs": []
    },
    {
      "cell_type": "code",
      "source": [
        "clustering(real_distance, filter_subjects)"
      ],
      "metadata": {
        "colab": {
          "base_uri": "https://localhost:8080/",
          "height": 567
        },
        "id": "-JQZBBTy0ncP",
        "outputId": "1476d46f-a989-4431-d4f6-4444b8128137"
      },
      "execution_count": null,
      "outputs": [
        {
          "output_type": "stream",
          "name": "stderr",
          "text": [
            "/usr/local/lib/python3.10/dist-packages/sklearn/cluster/_agglomerative.py:983: FutureWarning: Attribute `affinity` was deprecated in version 1.2 and will be removed in 1.4. Use `metric` instead\n",
            "  warnings.warn(\n"
          ]
        },
        {
          "output_type": "display_data",
          "data": {
            "text/plain": [
              "<Figure size 2000x700 with 1 Axes>"
            ],
            "image/png": "[encoded data removed]"
          },
          "metadata": {}
        }
      ]
    },
    {
      "cell_type": "code",
      "source": [
        "filter_sub_dict_reverse[48]"
      ],
      "metadata": {
        "id": "QtqmOHSv0nhs",
        "colab": {
          "base_uri": "https://localhost:8080/",
          "height": 36
        },
        "outputId": "df3ea1cf-9cb0-49db-b85c-5a04abe35a0a"
      },
      "execution_count": null,
      "outputs": [
        {
          "output_type": "execute_result",
          "data": {
            "text/plain": [
              "'Дизайн систем 2'"
            ],
            "application/vnd.google.colaboratory.intrinsic+json": {
              "type": "string"
            }
          },
          "metadata": {},
          "execution_count": 68
        }
      ]
    },
    {
      "cell_type": "code",
      "source": [
        "filter_sub_dict_reverse[94]"
      ],
      "metadata": {
        "id": "yWbXxATQ0nkf",
        "colab": {
          "base_uri": "https://localhost:8080/",
          "height": 36
        },
        "outputId": "f10913c5-66c5-471b-a5f1-461a56e11872"
      },
      "execution_count": null,
      "outputs": [
        {
          "output_type": "execute_result",
          "data": {
            "text/plain": [
              "'Распределенные системы 2'"
            ],
            "application/vnd.google.colaboratory.intrinsic+json": {
              "type": "string"
            }
          },
          "metadata": {},
          "execution_count": 69
        }
      ]
    },
    {
      "cell_type": "code",
      "source": [
        "filter_sub_dict_reverse[52]"
      ],
      "metadata": {
        "id": "Tdb0EG8C0nnY",
        "colab": {
          "base_uri": "https://localhost:8080/",
          "height": 36
        },
        "outputId": "c52a8dfc-ee4c-4eb1-95c1-ff646d24dc1b"
      },
      "execution_count": null,
      "outputs": [
        {
          "output_type": "execute_result",
          "data": {
            "text/plain": [
              "'Научно-исследовательский семинар \"Анализ данных и искусственный интеллект\" 4'"
            ],
            "application/vnd.google.colaboratory.intrinsic+json": {
              "type": "string"
            }
          },
          "metadata": {},
          "execution_count": 70
        }
      ]
    },
    {
      "cell_type": "code",
      "source": [
        "filter_sub_dict_reverse[56]"
      ],
      "metadata": {
        "id": "HaJqEOZW0nqI",
        "colab": {
          "base_uri": "https://localhost:8080/",
          "height": 36
        },
        "outputId": "4e1388f0-478b-4c12-e6ae-1d81b81f681c"
      },
      "execution_count": null,
      "outputs": [
        {
          "output_type": "execute_result",
          "data": {
            "text/plain": [
              "'Анализ данных в бизнесе 4'"
            ],
            "application/vnd.google.colaboratory.intrinsic+json": {
              "type": "string"
            }
          },
          "metadata": {},
          "execution_count": 71
        }
      ]
    },
    {
      "cell_type": "markdown",
      "source": [
        "#Первый курс ПМИ"
      ],
      "metadata": {
        "id": "_aHgwJ3MWjJK"
      }
    },
    {
      "cell_type": "code",
      "source": [
        "sub_similarity = pd.read_csv(\"similarity.csv\")"
      ],
      "metadata": {
        "id": "UYK4UMov9_mZ"
      },
      "execution_count": 169,
      "outputs": []
    },
    {
      "cell_type": "code",
      "source": [
        "first_sub = [\"Линейная алгебра и геометрия 2\", \"Линейная алгебра и геометрия 4\",\n",
        "             \"Алгебра 4\", \"Математический анализ 1 2\", \"Математический анализ 1 4\", \n",
        "             \"Дискретная математика 2\", \"Дискретная математика 3\",\n",
        "             \"Основы и методология программирования 1\",\n",
        "             \"Основы и методология программирования 3\", \n",
        "             \"Алгоритмы и структуры данных 2\",\n",
        "             \"Алгоритмы и структуры данных 4\"]"
      ],
      "metadata": {
        "id": "dY_soyl4caHR"
      },
      "execution_count": 172,
      "outputs": []
    },
    {
      "cell_type": "code",
      "source": [
        "first_course = sub_similarity.loc[sub_similarity[\"Предмет 1\"].isin(first_sub) & \n",
        "                          sub_similarity[\"Предмет 2\"].isin(first_sub)]\n",
        "first_subjects = number_filter_subjects(first_course)\n",
        "print(\"Количество предметов первого курса: \", first_subjects)\n",
        "first_codes = codes(first_course, first_subjects)\n",
        "first_codes"
      ],
      "metadata": {
        "colab": {
          "base_uri": "https://localhost:8080/"
        },
        "id": "1Flbcb1P98YT",
        "outputId": "e8b14ef4-e1fc-418a-d344-4747f8d279de"
      },
      "execution_count": 173,
      "outputs": [
        {
          "output_type": "stream",
          "name": "stdout",
          "text": [
            "Количество предметов первого курса:  11\n"
          ]
        },
        {
          "output_type": "execute_result",
          "data": {
            "text/plain": [
              "{'Линейная алгебра и геометрия 2': 0,\n",
              " 'Основы и методология программирования 1': 1,\n",
              " 'Дискретная математика 3': 2,\n",
              " 'Линейная алгебра и геометрия 4': 3,\n",
              " 'Основы и методология программирования 3': 4,\n",
              " 'Математический анализ 1 2': 5,\n",
              " 'Дискретная математика 2': 6,\n",
              " 'Алгоритмы и структуры данных 4': 7,\n",
              " 'Математический анализ 1 4': 8,\n",
              " 'Алгебра 4': 9,\n",
              " 'Алгоритмы и структуры данных 2': 10}"
            ]
          },
          "metadata": {},
          "execution_count": 173
        }
      ]
    },
    {
      "cell_type": "code",
      "source": [
        "new_first_codes = pair_codes(first_course, first_codes)\n",
        "first_course[\"Новый код предметов\"] = new_first_codes\n",
        "first_distance = real_dist(first_course)"
      ],
      "metadata": {
        "id": "s1hI3HVp98bl"
      },
      "execution_count": null,
      "outputs": []
    },
    {
      "cell_type": "code",
      "source": [
        "first_points=get_flat_presentation(first_distance, first_subjects)"
      ],
      "metadata": {
        "id": "isZMTIJoC7W5"
      },
      "execution_count": 188,
      "outputs": []
    },
    {
      "cell_type": "code",
      "source": [
        "colors = cm.tab20(np.linspace(0, 1, len(first_points[0])))\n",
        "colors = [col.to_hex(x, keep_alpha=False) for x in colors]\n",
        "\n",
        "for i in range(len(first_points[0])):\n",
        "  plt.scatter(x=first_points[0][i], y=first_points[1][i], c=colors[i])\n",
        "for i, txt in enumerate(first_codes.keys()):\n",
        "    plt.annotate(txt, (first_points[0][i], first_points[1][i]))\n",
        "plt.show()"
      ],
      "metadata": {
        "colab": {
          "base_uri": "https://localhost:8080/",
          "height": 434
        },
        "id": "kGlySRNUC9W6",
        "outputId": "fc0ae608-5fab-41fa-f2ee-599775da6882"
      },
      "execution_count": 189,
      "outputs": [
        {
          "output_type": "display_data",
          "data": {
            "text/plain": [
              "<Figure size 640x480 with 1 Axes>"
            ],
            "image/png": "[encoded data removed]"
          },
          "metadata": {}
        }
      ]
    },
    {
      "cell_type": "code",
      "source": [
        "clustering(first_distance, first_subjects)"
      ],
      "metadata": {
        "colab": {
          "base_uri": "https://localhost:8080/",
          "height": 562
        },
        "id": "BbNaR1C698oy",
        "outputId": "2b64fda5-d1de-49eb-c27d-e7c96f981475"
      },
      "execution_count": 190,
      "outputs": [
        {
          "output_type": "stream",
          "name": "stderr",
          "text": [
            "/usr/local/lib/python3.10/dist-packages/sklearn/cluster/_agglomerative.py:983: FutureWarning: Attribute `affinity` was deprecated in version 1.2 and will be removed in 1.4. Use `metric` instead\n",
            "  warnings.warn(\n"
          ]
        },
        {
          "output_type": "display_data",
          "data": {
            "text/plain": [
              "<Figure size 2000x700 with 1 Axes>"
            ],
            "image/png": "[encoded data removed]"
          },
          "metadata": {}
        }
      ]
    },
    {
      "cell_type": "code",
      "source": [
        "first_codes"
      ],
      "metadata": {
        "colab": {
          "base_uri": "https://localhost:8080/"
        },
        "id": "ScL-l8R_98rc",
        "outputId": "592f0c34-6fb7-497e-aefb-7c3684d09050"
      },
      "execution_count": 191,
      "outputs": [
        {
          "output_type": "execute_result",
          "data": {
            "text/plain": [
              "{'Линейная алгебра и геометрия 2': 0,\n",
              " 'Основы и методология программирования 1': 1,\n",
              " 'Дискретная математика 3': 2,\n",
              " 'Линейная алгебра и геометрия 4': 3,\n",
              " 'Основы и методология программирования 3': 4,\n",
              " 'Математический анализ 1 2': 5,\n",
              " 'Дискретная математика 2': 6,\n",
              " 'Алгоритмы и структуры данных 4': 7,\n",
              " 'Математический анализ 1 4': 8,\n",
              " 'Алгебра 4': 9,\n",
              " 'Алгоритмы и структуры данных 2': 10}"
            ]
          },
          "metadata": {},
          "execution_count": 191
        }
      ]
    },
    {
      "cell_type": "markdown",
      "source": [
        "#Специализация \"Анализ данных и интеллектуальные системы\""
      ],
      "metadata": {
        "id": "leVgs-lMWl29"
      }
    },
    {
      "cell_type": "code",
      "source": [
        "sub_similarity = pd.read_csv(\"similarity.csv\")"
      ],
      "metadata": {
        "id": "zQVyUCChuWJL"
      },
      "execution_count": 31,
      "outputs": []
    },
    {
      "cell_type": "code",
      "source": [
        "adis_sub = [\"Основные методы анализа данных 2\", \"Машинное обучение 1 2\", \"Методы оптимизации 4\",\n",
        "        \"Введение в глубинное обучение 3\", \"Комбинаторика, графы и булева логика 4\", \n",
        "        \"Автоматическая обработка текста 2\", \"Прикладная теория графов 2\", \n",
        "        \"Семантические технологии 3\", \"Анализ и визуализация сетей 3\", \n",
        "        \"Научно-исследовательский семинар \\\"Анализ данных и искусственный интеллект 2\\\" 3\", \n",
        "        \"Научно-исследовательский семинар \\\"Анализ данных и искусственный интеллект\\\" 4\"]"
      ],
      "metadata": {
        "id": "xcwcMVkCVUQO"
      },
      "execution_count": 198,
      "outputs": []
    },
    {
      "cell_type": "code",
      "source": [
        "adis = sub_similarity.loc[sub_similarity[\"Предмет 1\"].isin(adis_sub) & \n",
        "                          sub_similarity[\"Предмет 2\"].isin(adis_sub)]"
      ],
      "metadata": {
        "id": "-WE93yhCVUVq"
      },
      "execution_count": 199,
      "outputs": []
    },
    {
      "cell_type": "code",
      "source": [
        "adis_subjects = number_filter_subjects(adis)\n",
        "print(\"Количество предметов специализации АДИС: \", adis_subjects)\n",
        "adis_codes = codes(adis, adis_subjects)\n",
        "adis_codes"
      ],
      "metadata": {
        "colab": {
          "base_uri": "https://localhost:8080/"
        },
        "id": "PXwyiztGVUan",
        "outputId": "f22eac6c-0cba-4e23-aca6-5d29119133f2"
      },
      "execution_count": 200,
      "outputs": [
        {
          "output_type": "stream",
          "name": "stdout",
          "text": [
            "Количество предметов специализации АДИС:  11\n"
          ]
        },
        {
          "output_type": "execute_result",
          "data": {
            "text/plain": [
              "{'Научно-исследовательский семинар \"Анализ данных и искусственный интеллект 2\" 3': 0,\n",
              " 'Введение в глубинное обучение 3': 1,\n",
              " 'Научно-исследовательский семинар \"Анализ данных и искусственный интеллект\" 4': 2,\n",
              " 'Машинное обучение 1 2': 3,\n",
              " 'Комбинаторика, графы и булева логика 4': 4,\n",
              " 'Основные методы анализа данных 2': 5,\n",
              " 'Автоматическая обработка текста 2': 6,\n",
              " 'Семантические технологии 3': 7,\n",
              " 'Методы оптимизации 4': 8,\n",
              " 'Анализ и визуализация сетей 3': 9,\n",
              " 'Прикладная теория графов 2': 10}"
            ]
          },
          "metadata": {},
          "execution_count": 200
        }
      ]
    },
    {
      "cell_type": "code",
      "source": [
        "new_adis_codes = pair_codes(adis, adis_codes)\n",
        "adis[\"Новый код предметов\"] = new_adis_codes\n",
        "adis_distance = real_dist(adis)"
      ],
      "metadata": {
        "id": "EMQA4Omwhids"
      },
      "execution_count": null,
      "outputs": []
    },
    {
      "cell_type": "code",
      "source": [
        "adis_points=get_flat_presentation(adis_distance, adis_subjects)"
      ],
      "metadata": {
        "id": "afOMHtVJhioO"
      },
      "execution_count": 209,
      "outputs": []
    },
    {
      "cell_type": "code",
      "source": [
        "colors = cm.tab20(np.linspace(0, 1, len(adis_points[0])))\n",
        "colors = [col.to_hex(x, keep_alpha=False) for x in colors]\n",
        "\n",
        "for i in range(len(adis_points[0])):\n",
        "  plt.scatter(x=adis_points[0][i], y=adis_points[1][i], c=colors[i])\n",
        "for i, txt in enumerate(adis_codes.keys()):\n",
        "    plt.annotate(txt, (adis_points[0][i], adis_points[1][i]))\n",
        "plt.show()"
      ],
      "metadata": {
        "colab": {
          "base_uri": "https://localhost:8080/",
          "height": 430
        },
        "id": "MVhbN4EEicTA",
        "outputId": "388f6158-993c-4e9a-a1a2-fdedfebf1147"
      },
      "execution_count": 210,
      "outputs": [
        {
          "output_type": "display_data",
          "data": {
            "text/plain": [
              "<Figure size 640x480 with 1 Axes>"
            ],
            "image/png": "[encoded data removed]"
          },
          "metadata": {}
        }
      ]
    },
    {
      "cell_type": "code",
      "source": [
        "clustering(adis_distance, adis_subjects)"
      ],
      "metadata": {
        "id": "A5eyu2XhicYT",
        "colab": {
          "base_uri": "https://localhost:8080/",
          "height": 562
        },
        "outputId": "ec44b1b2-005e-41ad-a695-ef401f254f0d"
      },
      "execution_count": 211,
      "outputs": [
        {
          "output_type": "stream",
          "name": "stderr",
          "text": [
            "/usr/local/lib/python3.10/dist-packages/sklearn/cluster/_agglomerative.py:983: FutureWarning: Attribute `affinity` was deprecated in version 1.2 and will be removed in 1.4. Use `metric` instead\n",
            "  warnings.warn(\n"
          ]
        },
        {
          "output_type": "display_data",
          "data": {
            "text/plain": [
              "<Figure size 2000x700 with 1 Axes>"
            ],
            "image/png": "[encoded data removed]"
          },
          "metadata": {}
        }
      ]
    },
    {
      "cell_type": "code",
      "source": [
        "adis_codes"
      ],
      "metadata": {
        "id": "Qg49Gdnfica4",
        "colab": {
          "base_uri": "https://localhost:8080/"
        },
        "outputId": "cc0b90be-19c8-44c7-f87d-f61bf001bbda"
      },
      "execution_count": 212,
      "outputs": [
        {
          "output_type": "execute_result",
          "data": {
            "text/plain": [
              "{'Научно-исследовательский семинар \"Анализ данных и искусственный интеллект 2\" 3': 0,\n",
              " 'Введение в глубинное обучение 3': 1,\n",
              " 'Научно-исследовательский семинар \"Анализ данных и искусственный интеллект\" 4': 2,\n",
              " 'Машинное обучение 1 2': 3,\n",
              " 'Комбинаторика, графы и булева логика 4': 4,\n",
              " 'Основные методы анализа данных 2': 5,\n",
              " 'Автоматическая обработка текста 2': 6,\n",
              " 'Семантические технологии 3': 7,\n",
              " 'Методы оптимизации 4': 8,\n",
              " 'Анализ и визуализация сетей 3': 9,\n",
              " 'Прикладная теория графов 2': 10}"
            ]
          },
          "metadata": {},
          "execution_count": 212
        }
      ]
    }
  ],
  "metadata": {
    "colab": {
      "provenance": []
    },
    "kernelspec": {
      "display_name": "Python 3",
      "name": "python3"
    },
    "language_info": {
      "name": "python"
    }
  },
  "nbformat": 4,
  "nbformat_minor": 0
}